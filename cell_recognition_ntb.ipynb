{
  "nbformat": 4,
  "nbformat_minor": 0,
  "metadata": {
    "colab": {
      "provenance": []
    },
    "kernelspec": {
      "name": "python3",
      "display_name": "Python 3"
    },
    "language_info": {
      "name": "python"
    }
  },
  "cells": [
    {
      "cell_type": "markdown",
      "source": [
        "\n",
        "# Prepare and install requirements for the environment:"
      ],
      "metadata": {
        "id": "iK8zwF_5Rx7Q"
      }
    },
    {
      "cell_type": "code",
      "source": [
        "!pip install stardist\n",
        "!pip install csbdeep\n",
        "!pip install tifffile\n",
        "!pip install imagecodecs\n",
        "!pip install airium"
      ],
      "metadata": {
        "colab": {
          "base_uri": "https://localhost:8080/"
        },
        "id": "eBWKeVgp0Zoy",
        "outputId": "f2523943-b4e4-4729-b97e-670318fc0486"
      },
      "execution_count": 1,
      "outputs": [
        {
          "output_type": "stream",
          "name": "stdout",
          "text": [
            "Collecting stardist\n",
            "  Downloading stardist-0.9.1-cp310-cp310-manylinux_2_17_x86_64.manylinux2014_x86_64.whl (3.1 MB)\n",
            "\u001b[2K     \u001b[90m━━━━━━━━━━━━━━━━━━━━━━━━━━━━━━━━━━━━━━━━\u001b[0m \u001b[32m3.1/3.1 MB\u001b[0m \u001b[31m10.7 MB/s\u001b[0m eta \u001b[36m0:00:00\u001b[0m\n",
            "\u001b[?25hCollecting csbdeep>=0.8.0 (from stardist)\n",
            "  Downloading csbdeep-0.8.0-py2.py3-none-any.whl (71 kB)\n",
            "\u001b[2K     \u001b[90m━━━━━━━━━━━━━━━━━━━━━━━━━━━━━━━━━━━━━━━━\u001b[0m \u001b[32m71.3/71.3 kB\u001b[0m \u001b[31m4.9 MB/s\u001b[0m eta \u001b[36m0:00:00\u001b[0m\n",
            "\u001b[?25hRequirement already satisfied: scikit-image in /usr/local/lib/python3.10/dist-packages (from stardist) (0.19.3)\n",
            "Requirement already satisfied: numba in /usr/local/lib/python3.10/dist-packages (from stardist) (0.58.1)\n",
            "Requirement already satisfied: imageio in /usr/local/lib/python3.10/dist-packages (from stardist) (2.31.6)\n",
            "Requirement already satisfied: numpy in /usr/local/lib/python3.10/dist-packages (from csbdeep>=0.8.0->stardist) (1.25.2)\n",
            "Requirement already satisfied: scipy in /usr/local/lib/python3.10/dist-packages (from csbdeep>=0.8.0->stardist) (1.11.4)\n",
            "Requirement already satisfied: matplotlib in /usr/local/lib/python3.10/dist-packages (from csbdeep>=0.8.0->stardist) (3.7.1)\n",
            "Requirement already satisfied: six in /usr/local/lib/python3.10/dist-packages (from csbdeep>=0.8.0->stardist) (1.16.0)\n",
            "Requirement already satisfied: tifffile in /usr/local/lib/python3.10/dist-packages (from csbdeep>=0.8.0->stardist) (2024.5.22)\n",
            "Requirement already satisfied: tqdm in /usr/local/lib/python3.10/dist-packages (from csbdeep>=0.8.0->stardist) (4.66.4)\n",
            "Requirement already satisfied: packaging in /usr/local/lib/python3.10/dist-packages (from csbdeep>=0.8.0->stardist) (24.0)\n",
            "Requirement already satisfied: pillow<10.1.0,>=8.3.2 in /usr/local/lib/python3.10/dist-packages (from imageio->stardist) (9.4.0)\n",
            "Requirement already satisfied: llvmlite<0.42,>=0.41.0dev0 in /usr/local/lib/python3.10/dist-packages (from numba->stardist) (0.41.1)\n",
            "Requirement already satisfied: networkx>=2.2 in /usr/local/lib/python3.10/dist-packages (from scikit-image->stardist) (3.3)\n",
            "Requirement already satisfied: PyWavelets>=1.1.1 in /usr/local/lib/python3.10/dist-packages (from scikit-image->stardist) (1.6.0)\n",
            "Requirement already satisfied: contourpy>=1.0.1 in /usr/local/lib/python3.10/dist-packages (from matplotlib->csbdeep>=0.8.0->stardist) (1.2.1)\n",
            "Requirement already satisfied: cycler>=0.10 in /usr/local/lib/python3.10/dist-packages (from matplotlib->csbdeep>=0.8.0->stardist) (0.12.1)\n",
            "Requirement already satisfied: fonttools>=4.22.0 in /usr/local/lib/python3.10/dist-packages (from matplotlib->csbdeep>=0.8.0->stardist) (4.51.0)\n",
            "Requirement already satisfied: kiwisolver>=1.0.1 in /usr/local/lib/python3.10/dist-packages (from matplotlib->csbdeep>=0.8.0->stardist) (1.4.5)\n",
            "Requirement already satisfied: pyparsing>=2.3.1 in /usr/local/lib/python3.10/dist-packages (from matplotlib->csbdeep>=0.8.0->stardist) (3.1.2)\n",
            "Requirement already satisfied: python-dateutil>=2.7 in /usr/local/lib/python3.10/dist-packages (from matplotlib->csbdeep>=0.8.0->stardist) (2.8.2)\n",
            "Installing collected packages: csbdeep, stardist\n",
            "Successfully installed csbdeep-0.8.0 stardist-0.9.1\n",
            "Requirement already satisfied: csbdeep in /usr/local/lib/python3.10/dist-packages (0.8.0)\n",
            "Requirement already satisfied: numpy in /usr/local/lib/python3.10/dist-packages (from csbdeep) (1.25.2)\n",
            "Requirement already satisfied: scipy in /usr/local/lib/python3.10/dist-packages (from csbdeep) (1.11.4)\n",
            "Requirement already satisfied: matplotlib in /usr/local/lib/python3.10/dist-packages (from csbdeep) (3.7.1)\n",
            "Requirement already satisfied: six in /usr/local/lib/python3.10/dist-packages (from csbdeep) (1.16.0)\n",
            "Requirement already satisfied: tifffile in /usr/local/lib/python3.10/dist-packages (from csbdeep) (2024.5.22)\n",
            "Requirement already satisfied: tqdm in /usr/local/lib/python3.10/dist-packages (from csbdeep) (4.66.4)\n",
            "Requirement already satisfied: packaging in /usr/local/lib/python3.10/dist-packages (from csbdeep) (24.0)\n",
            "Requirement already satisfied: contourpy>=1.0.1 in /usr/local/lib/python3.10/dist-packages (from matplotlib->csbdeep) (1.2.1)\n",
            "Requirement already satisfied: cycler>=0.10 in /usr/local/lib/python3.10/dist-packages (from matplotlib->csbdeep) (0.12.1)\n",
            "Requirement already satisfied: fonttools>=4.22.0 in /usr/local/lib/python3.10/dist-packages (from matplotlib->csbdeep) (4.51.0)\n",
            "Requirement already satisfied: kiwisolver>=1.0.1 in /usr/local/lib/python3.10/dist-packages (from matplotlib->csbdeep) (1.4.5)\n",
            "Requirement already satisfied: pillow>=6.2.0 in /usr/local/lib/python3.10/dist-packages (from matplotlib->csbdeep) (9.4.0)\n",
            "Requirement already satisfied: pyparsing>=2.3.1 in /usr/local/lib/python3.10/dist-packages (from matplotlib->csbdeep) (3.1.2)\n",
            "Requirement already satisfied: python-dateutil>=2.7 in /usr/local/lib/python3.10/dist-packages (from matplotlib->csbdeep) (2.8.2)\n",
            "Requirement already satisfied: tifffile in /usr/local/lib/python3.10/dist-packages (2024.5.22)\n",
            "Requirement already satisfied: numpy in /usr/local/lib/python3.10/dist-packages (from tifffile) (1.25.2)\n",
            "Collecting imagecodecs\n",
            "  Downloading imagecodecs-2024.1.1-cp310-cp310-manylinux_2_17_x86_64.manylinux2014_x86_64.whl (39.6 MB)\n",
            "\u001b[2K     \u001b[90m━━━━━━━━━━━━━━━━━━━━━━━━━━━━━━━━━━━━━━━━\u001b[0m \u001b[32m39.6/39.6 MB\u001b[0m \u001b[31m20.2 MB/s\u001b[0m eta \u001b[36m0:00:00\u001b[0m\n",
            "\u001b[?25hRequirement already satisfied: numpy in /usr/local/lib/python3.10/dist-packages (from imagecodecs) (1.25.2)\n",
            "Installing collected packages: imagecodecs\n",
            "Successfully installed imagecodecs-2024.1.1\n",
            "Collecting airium\n",
            "  Downloading airium-0.2.6-py3-none-any.whl (13 kB)\n",
            "Installing collected packages: airium\n",
            "Successfully installed airium-0.2.6\n"
          ]
        }
      ]
    },
    {
      "cell_type": "code",
      "source": [
        "!pip freeze > requirements.txt"
      ],
      "metadata": {
        "id": "6b0RrsizRQrm"
      },
      "execution_count": 2,
      "outputs": []
    },
    {
      "cell_type": "markdown",
      "source": [
        "# Load the libraries and the images:\n",
        "\n",
        "The image was loaded in two dictionaries, one containing the first page of the .tif file and the second one containing the second page of the .tif file.\n",
        "\n",
        "The first dictionary contains the images in 2D of dimensions (720, 960).\n",
        "\n",
        "The second dictionary contains the images in 3D of dimensions (120, 160, 3)."
      ],
      "metadata": {
        "id": "iyhXrgbzSjhl"
      }
    },
    {
      "cell_type": "code",
      "source": [
        "import os\n",
        "import os.path\n",
        "from os import path\n",
        "import tifffile as tiff\n",
        "from tifffile import imread, TiffFile\n",
        "import numpy as np\n",
        "import matplotlib.pyplot as plt\n",
        "from stardist.models import StarDist2D\n",
        "from csbdeep.utils import normalize\n",
        "from stardist.plot import render_label\n",
        "from google.colab import drive\n",
        "drive.mount('/content/drive')\n",
        "import pandas as pd\n",
        "from glob import glob\n",
        "from stardist import random_label_cmap, _draw_polygons, export_imagej_rois\n",
        "from stardist.models import StarDist2D\n",
        "from csbdeep.io import save_tiff_imagej_compatible\n",
        "\n",
        "\n",
        "# Define the path to your images\n",
        "image_folder = '/content/drive/MyDrive/Recruitment test/mono'\n",
        "\n",
        "# Load the images\n",
        "image_files = [os.path.join(image_folder, f) for f in os.listdir(image_folder) if f.endswith('.tif')]\n",
        "\n",
        "# Load the pretrained StarDist model\n",
        "model_1_ch = StarDist2D.from_pretrained('2D_versatile_fluo')\n",
        "\n",
        "output_folder = '/content/drive/MyDrive/output_images'\n",
        "\n",
        "# Create a directory to save the results\n",
        "if path.exists(output_folder) == False:\n",
        "  os.mkdir(output_folder)\n",
        "\n",
        "np.random.seed(6)\n",
        "lbl_cmap = random_label_cmap()\n",
        "\n",
        "X = sorted(glob('/content/drive/MyDrive/Recruitment test/mono/*.tif'))\n",
        "X = list(map(TiffFile,X))\n",
        "dic_img_2D=dict()\n",
        "dic_img_3D=dict()\n",
        "for tif in X:\n",
        "  img1 = normalize(tif.pages[0].asarray(), 1,99.8, (0,1))\n",
        "  dic_img_2D[tif.filename]=img1\n",
        "  img2 = normalize(tif.pages[1].asarray(), 1,99.8, (0,1,2))\n",
        "  dic_img_3D[tif.filename]=img2\n"
      ],
      "metadata": {
        "colab": {
          "base_uri": "https://localhost:8080/"
        },
        "id": "42RkplD04TC0",
        "outputId": "cd596629-6ce3-4add-dbef-b6c758d97253"
      },
      "execution_count": null,
      "outputs": [
        {
          "output_type": "stream",
          "name": "stdout",
          "text": [
            "Mounted at /content/drive\n",
            "Found model '2D_versatile_fluo' for 'StarDist2D'.\n",
            "Downloading data from https://github.com/stardist/stardist-models/releases/download/v0.1/python_2D_versatile_fluo.zip\n",
            "5320433/5320433 [==============================] - 0s 0us/step\n",
            "Loading network weights from 'weights_best.h5'.\n",
            "Loading thresholds from 'thresholds.json'.\n",
            "Using default values: prob_thresh=0.479071, nms_thresh=0.3.\n"
          ]
        }
      ]
    },
    {
      "cell_type": "markdown",
      "source": [
        "# Define the functions to perform the segmentation:\n",
        "\n",
        "\n",
        "\n",
        "*   **segmentation**:  This function performs image segmentation using a given model, normalizes the image, predicts instances, and visualizes the results.\n",
        "\n",
        "**Parameters:**\n",
        "\n",
        "1.   model: The segmentation model used to predict instances in the image. In this case the images were of type Fluorescence (nuclear marker) single channel the model used was: '2D_versatile_fluo'\n",
        "2.   filename: The name of the image file, used for saving the output.\n",
        "\n",
        "3.  axis_norm: The axes along which the image should be normalized. In this case, since the data was a single channel a jointly normalization was performed.\n",
        "\n",
        "4.  c: A suffix for the output filename, useful when processing slices of an image.\n",
        "\n",
        "5.  show_dist: A boolean indicating whether to show distances in the visualization (default is True).\n",
        "\n",
        "*   **Process:**\n",
        "\n",
        "1.   dic_img: dictionary with the images to be proccessed\n",
        "\n"
      ],
      "metadata": {
        "id": "ZeeMh8SGSqkw"
      }
    },
    {
      "cell_type": "code",
      "source": [
        "def segmentation(model, image, filename, axis_norm, c, show_dist=True):\n",
        "    img = normalize(image, 1, 99.8, axis=axis_norm)\n",
        "    labels, details = model.predict_instances(img)\n",
        "\n",
        "    img_show = img if img.ndim==2 else img[...,0]\n",
        "    coord, points, prob = details['coord'], details['points'], details['prob']\n",
        "    segmented_img = render_label(labels)\n",
        "\n",
        "    fig, axs = plt.subplots(1, 3, figsize=(20, 7))\n",
        "    # Plotting original image\n",
        "    axs[0].imshow(img_show, cmap='gray')\n",
        "    axs[0].set_title('Original Image')\n",
        "    axs[0].axis('off')\n",
        "    # Plotting segmented image\n",
        "    axs[1].imshow(segmented_img, cmap='gray')\n",
        "    axs[1].set_title('Segmented Image')\n",
        "    axs[1].axis('off')\n",
        "\n",
        "    axs[2].imshow(img_show, cmap='gray')\n",
        "    _draw_polygons(coord, points, prob, show_dist=show_dist)\n",
        "    axs[2].set_title('Original + Segmented Image')\n",
        "    axs[2].axis('off')\n",
        "    plt.tight_layout()\n",
        "\n",
        "    # Save figures\n",
        "    base_name = filename.replace('.tif', '')\n",
        "\n",
        "    plt.savefig(os.path.join(output_folder, f'{base_name}_output{c}.png'))\n",
        "    plt.cla()\n",
        "    fig.clf()\n",
        "    plt.close('all')\n",
        "\n",
        "def process_images(dic_img):\n",
        "\n",
        "  for key in dic_img:\n",
        "    img=dic_img[key]\n",
        "    axis_norm = (0,1)\n",
        "    model=model_1_ch\n",
        "    if img.ndim == 2:  # single channel\n",
        "        c = ''\n",
        "        segmentation(model, img, key, axis_norm, c, show_dist=True)\n",
        "\n",
        "    elif img.ndim == 3 and img.shape[-1] == 3:\n",
        "        segmented_slices = []\n",
        "        for i in range(img.shape[2]):\n",
        "          im = img[:, :, i]\n",
        "          c = f'_slide_{i}'\n",
        "          segmentation(model, im, key, axis_norm, c, show_dist=True)\n",
        "\n",
        "    else:\n",
        "        raise ValueError(f\"Unexpected image dimensions: {img.shape}\")\n"
      ],
      "metadata": {
        "id": "79mTgVeTNzzR"
      },
      "execution_count": null,
      "outputs": []
    },
    {
      "cell_type": "markdown",
      "source": [
        "# Run the functions to perform the segmentation\n",
        "\n",
        "*   **Highlight:** The second dictionary containing 3D images was processed using the same model as the 2D images. Each slide of the 3D images was iterated through to perform segmentation individually. However, since the existing 3D models were trained on volumes with more slides (>3), the segmentation output did not meet expectations. One alternative approach could be to retrain the model using the current dataset and apply augmentation techniques. Nonetheless, considering the limited size of the training data, there is a high risk of overfitting.\n",
        "\n",
        "\n"
      ],
      "metadata": {
        "id": "n_wMpzVQSyNi"
      }
    },
    {
      "cell_type": "code",
      "source": [
        "process_images(dic_img_2D)\n",
        "process_images(dic_img_3D)"
      ],
      "metadata": {
        "id": "Ql1l9yW0RvGj"
      },
      "execution_count": null,
      "outputs": []
    },
    {
      "cell_type": "markdown",
      "source": [
        "# Create the HTML report and ave it at the output folder"
      ],
      "metadata": {
        "id": "KNNLmyviVizm"
      }
    },
    {
      "cell_type": "code",
      "source": [
        "# Get list of image files in the folder\n",
        "image_files = [f for f in os.listdir(output_folder) if f.endswith('.png')]\n",
        "\n",
        "# Read the HTML template\n",
        "with open(output_folder+'/index_template.html', 'r') as file:\n",
        "    html_template = file.read()\n",
        "\n",
        "# Define the HTML structure for the image slides\n",
        "image_slide_template = \"\"\"\n",
        "<div data-thq=\"slider-slide\" class=\"gallery8-slider-slide swiper-slide\">\n",
        "  <img alt=\"{alt_text}\" src=\"{src}\" class=\"gallery8-image thq-img-ratio-4-3\" />\n",
        "</div>\n",
        "\"\"\"\n",
        "\n",
        "# Generate the new image slides\n",
        "new_image_slides = \"\"\n",
        "for image in image_files:\n",
        "    image_path = os.path.join('.', image)\n",
        "    new_image_slides += image_slide_template.format(alt_text=image, src=image_path)\n",
        "\n",
        "# Replace the placeholder in the template with the new image slides\n",
        "new_html = html_template.replace(\n",
        "    '<div data-thq=\"slider-wrapper\" class=\"swiper-wrapper\">',\n",
        "    f'<div data-thq=\"slider-wrapper\" class=\"swiper-wrapper\">{new_image_slides}'\n",
        ")\n",
        "\n",
        "# Save the modified HTML to a new file\n",
        "file_report = '/index.html'\n",
        "with open(output_folder+file_report, 'w') as file:\n",
        "    file.write(new_html)\n",
        "\n",
        "print(f\"Updated HTML file has been saved to {output_folder+file_report}\")\n"
      ],
      "metadata": {
        "colab": {
          "base_uri": "https://localhost:8080/"
        },
        "id": "1QxD3mrW5GtB",
        "outputId": "0522d6aa-33b7-4953-8e65-7e60d9b8c94a"
      },
      "execution_count": null,
      "outputs": [
        {
          "output_type": "stream",
          "name": "stdout",
          "text": [
            "Updated HTML file has been saved to /content/drive/MyDrive/output_images/index.html\n"
          ]
        }
      ]
    }
  ]
}